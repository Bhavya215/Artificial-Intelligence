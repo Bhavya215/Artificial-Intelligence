{
  "nbformat": 4,
  "nbformat_minor": 0,
  "metadata": {
    "colab": {
      "name": "Cifar100_Denoising.ipynb",
      "provenance": []
    },
    "kernelspec": {
      "name": "python3",
      "display_name": "Python 3"
    },
    "accelerator": "GPU"
  },
  "cells": [
    {
      "cell_type": "code",
      "metadata": {
        "id": "o85QYMyF79BD"
      },
      "source": [
        "import numpy as np\n",
        "import matplotlib.pyplot as plt\n",
        "from tensorflow.keras.layers import Conv2D, Input, Dense, Reshape, Conv2DTranspose,\\\n",
        "   Activation, BatchNormalization, ReLU, Concatenate\n",
        "from tensorflow.keras.models import Model\n",
        "from tensorflow.keras.callbacks import ModelCheckpoint\n",
        "from tensorflow.keras.datasets import cifar100, cifar10"
      ],
      "execution_count": 1,
      "outputs": []
    },
    {
      "cell_type": "markdown",
      "metadata": {
        "id": "1i2gBphN8JnX"
      },
      "source": [
        "**Loading the dataset**"
      ]
    },
    {
      "cell_type": "code",
      "metadata": {
        "id": "BLGVgSdf7-0x",
        "outputId": "207e76cb-df13-49ef-ce8f-2099b7a20be8",
        "colab": {
          "base_uri": "https://localhost:8080/",
          "height": 50
        }
      },
      "source": [
        "(train_data_original, _), (test_data_original, _) = cifar100.load_data()"
      ],
      "execution_count": 2,
      "outputs": [
        {
          "output_type": "stream",
          "text": [
            "Downloading data from https://www.cs.toronto.edu/~kriz/cifar-100-python.tar.gz\n",
            "169009152/169001437 [==============================] - 4s 0us/step\n"
          ],
          "name": "stdout"
        }
      ]
    },
    {
      "cell_type": "code",
      "metadata": {
        "id": "Jd-Dzpev8Y2Y"
      },
      "source": [
        "train_data_original = train_data_original.astype('float32') / 255.\n",
        "test_data_original = test_data_original.astype('float32') / 255."
      ],
      "execution_count": 3,
      "outputs": []
    },
    {
      "cell_type": "markdown",
      "metadata": {
        "id": "36CC3Pfe8uy_"
      },
      "source": [
        "**Noising the dataset**"
      ]
    },
    {
      "cell_type": "code",
      "metadata": {
        "id": "CfzFe22I8bCd"
      },
      "source": [
        "# Salt and Pepper Noise\n",
        "def salt_pepper_noise(data):\n",
        "    data1 = data.copy()\n",
        "    count = 0\n",
        "    for image in data1:\n",
        "      row,col,ch = image.shape\n",
        "      s_vs_p = 0.5\n",
        "      amount = 0.004\n",
        "      out = np.copy(image)\n",
        "      # Salt mode\n",
        "      num_salt = np.ceil(amount * image.size * s_vs_p)\n",
        "      coords = [np.random.randint(0, i - 1, int(num_salt))\n",
        "              for i in image.shape]\n",
        "      out[coords] = 1\n",
        "\n",
        "      # Pepper mode\n",
        "      num_pepper = np.ceil(amount* image.size * (1. - s_vs_p))\n",
        "      coords = [np.random.randint(0, i - 1, int(num_pepper))\n",
        "              for i in image.shape]\n",
        "      out[coords] = 0\n",
        "      data1[count] = out\n",
        "      count += 1\n",
        "    return data1"
      ],
      "execution_count": 5,
      "outputs": []
    },
    {
      "cell_type": "code",
      "metadata": {
        "id": "R2TwGItv81up",
        "outputId": "67b5c474-f6e5-4dbc-91b5-37fd16dd85da",
        "colab": {
          "base_uri": "https://localhost:8080/",
          "height": 286
        }
      },
      "source": [
        "train_data_noisy = salt_pepper_noise(train_data_original)\n",
        "test_data_noisy = salt_pepper_noise(test_data_original)\n",
        "\n",
        "idx = 4\n",
        "plt.subplot(1,2,1)\n",
        "plt.imshow(train_data_original[idx])\n",
        "plt.title('Original image')\n",
        "plt.subplot(1,2,2)\n",
        "plt.imshow(train_data_noisy[idx])\n",
        "plt.title('Image with noise')\n",
        "plt.show()"
      ],
      "execution_count": 6,
      "outputs": [
        {
          "output_type": "stream",
          "text": [
            "/usr/local/lib/python3.6/dist-packages/ipykernel_launcher.py:14: FutureWarning: Using a non-tuple sequence for multidimensional indexing is deprecated; use `arr[tuple(seq)]` instead of `arr[seq]`. In the future this will be interpreted as an array index, `arr[np.array(seq)]`, which will result either in an error or a different result.\n",
            "  \n",
            "/usr/local/lib/python3.6/dist-packages/ipykernel_launcher.py:20: FutureWarning: Using a non-tuple sequence for multidimensional indexing is deprecated; use `arr[tuple(seq)]` instead of `arr[seq]`. In the future this will be interpreted as an array index, `arr[np.array(seq)]`, which will result either in an error or a different result.\n"
          ],
          "name": "stderr"
        },
        {
          "output_type": "display_data",
          "data": {
            "image/png": "[encoded data removed]",
            "text/plain": [
              "<Figure size 432x288 with 2 Axes>"
            ]
          },
          "metadata": {
            "tags": [],
            "needs_background": "light"
          }
        }
      ]
    },
    {
      "cell_type": "markdown",
      "metadata": {
        "id": "U1r3bl9DRKIu"
      },
      "source": [
        "**Convolutional Architecture**"
      ]
    },
    {
      "cell_type": "code",
      "metadata": {
        "id": "TaGVYQ1sRFY3"
      },
      "source": [
        "def conv_block(x, filters, kernel_size, strides=2):\n",
        "   x = Conv2D(filters=filters,\n",
        "              kernel_size=kernel_size,\n",
        "              strides=strides,\n",
        "              padding='same')(x)\n",
        "   x = BatchNormalization()(x)\n",
        "   x = ReLU()(x)\n",
        "   return x\n",
        "  \n",
        "def deconv_block(x, filters, kernel_size):\n",
        "   x = Conv2DTranspose(filters=filters,\n",
        "                       kernel_size=kernel_size,\n",
        "                       strides=2,\n",
        "                       padding='same')(x)\n",
        "   x = BatchNormalization()(x)\n",
        "   x = ReLU()(x)\n",
        "   return x"
      ],
      "execution_count": 7,
      "outputs": []
    },
    {
      "cell_type": "markdown",
      "metadata": {
        "id": "YyZvGlR3RYEq"
      },
      "source": [
        "**Denoising the images**"
      ]
    },
    {
      "cell_type": "code",
      "metadata": {
        "id": "O_K8ey6wRSeV"
      },
      "source": [
        "def denoising_autoencoder():\n",
        "    dae_inputs = Input(shape=(32, 32, 3), name='dae_input')\n",
        "    conv_block1 = conv_block(dae_inputs, 32, 3)\n",
        "    conv_block2 = conv_block(conv_block1, 64, 3)\n",
        "    conv_block3 = conv_block(conv_block2, 128, 3)\n",
        "    conv_block4 = conv_block(conv_block3, 256, 3)\n",
        "    conv_block5 = conv_block(conv_block4, 256, 3, 1)\n",
        "\n",
        "    deconv_block1 = deconv_block(conv_block5, 256, 3)\n",
        "    merge1 = Concatenate()([deconv_block1, conv_block3])\n",
        "    deconv_block2 = deconv_block(merge1, 128, 3)\n",
        "    merge2 = Concatenate()([deconv_block2, conv_block2])\n",
        "    deconv_block3 = deconv_block(merge2, 64, 3)\n",
        "    merge3 = Concatenate()([deconv_block3, conv_block1])\n",
        "    deconv_block4 = deconv_block(merge3, 32, 3)\n",
        "\n",
        "    final_deconv = Conv2DTranspose(filters=3,\n",
        "                        kernel_size=3,\n",
        "                        padding='same')(deconv_block4)\n",
        "    dae_outputs = Activation('sigmoid', name='dae_output')(final_deconv)\n",
        "    \n",
        "    return Model(dae_inputs, dae_outputs, name='dae')"
      ],
      "execution_count": 8,
      "outputs": []
    },
    {
      "cell_type": "markdown",
      "metadata": {
        "id": "LdSS99z5RfwJ"
      },
      "source": [
        "**Training the Model**"
      ]
    },
    {
      "cell_type": "code",
      "metadata": {
        "id": "8w7tmu_uRkYl",
        "outputId": "0feca3c0-1b51-4f77-8076-675786701666",
        "colab": {
          "base_uri": "https://localhost:8080/",
          "height": 706
        }
      },
      "source": [
        "  dae = denoising_autoencoder()\n",
        "  dae.compile(loss='binary_crossentropy', optimizer='adam')\n",
        "  \n",
        "  checkpoint = ModelCheckpoint('best_model.h5', verbose=1, save_best_only=True, save_weights_only=True)\n",
        "\n",
        "  dae.fit(train_data_noisy,\n",
        "        train_data_original,\n",
        "        validation_data=(test_data_noisy, test_data_original),\n",
        "        epochs=10,\n",
        "        batch_size=128,\n",
        "        callbacks=[checkpoint])"
      ],
      "execution_count": 11,
      "outputs": [
        {
          "output_type": "stream",
          "text": [
            "Epoch 1/10\n",
            "391/391 [==============================] - ETA: 0s - loss: 0.5356\n",
            "Epoch 00001: val_loss improved from inf to 0.55057, saving model to best_model.h5\n",
            "391/391 [==============================] - 9s 24ms/step - loss: 0.5356 - val_loss: 0.5506\n",
            "Epoch 2/10\n",
            "391/391 [==============================] - ETA: 0s - loss: 0.5283\n",
            "Epoch 00002: val_loss improved from 0.55057 to 0.52658, saving model to best_model.h5\n",
            "391/391 [==============================] - 9s 24ms/step - loss: 0.5283 - val_loss: 0.5266\n",
            "Epoch 3/10\n",
            "391/391 [==============================] - ETA: 0s - loss: 0.5277\n",
            "Epoch 00003: val_loss did not improve from 0.52658\n",
            "391/391 [==============================] - 9s 24ms/step - loss: 0.5277 - val_loss: 0.5269\n",
            "Epoch 4/10\n",
            "391/391 [==============================] - ETA: 0s - loss: 0.5272\n",
            "Epoch 00004: val_loss improved from 0.52658 to 0.52537, saving model to best_model.h5\n",
            "391/391 [==============================] - 9s 24ms/step - loss: 0.5272 - val_loss: 0.5254\n",
            "Epoch 5/10\n",
            "390/391 [============================>.] - ETA: 0s - loss: 0.5269\n",
            "Epoch 00005: val_loss did not improve from 0.52537\n",
            "391/391 [==============================] - 9s 24ms/step - loss: 0.5269 - val_loss: 0.5255\n",
            "Epoch 6/10\n",
            "390/391 [============================>.] - ETA: 0s - loss: 0.5267\n",
            "Epoch 00006: val_loss did not improve from 0.52537\n",
            "391/391 [==============================] - 9s 24ms/step - loss: 0.5267 - val_loss: 0.5256\n",
            "Epoch 7/10\n",
            "391/391 [==============================] - ETA: 0s - loss: 0.5264\n",
            "Epoch 00007: val_loss did not improve from 0.52537\n",
            "391/391 [==============================] - 9s 24ms/step - loss: 0.5264 - val_loss: 0.5276\n",
            "Epoch 8/10\n",
            "390/391 [============================>.] - ETA: 0s - loss: 0.5264\n",
            "Epoch 00008: val_loss improved from 0.52537 to 0.52509, saving model to best_model.h5\n",
            "391/391 [==============================] - 9s 24ms/step - loss: 0.5264 - val_loss: 0.5251\n",
            "Epoch 9/10\n",
            "391/391 [==============================] - ETA: 0s - loss: 0.5261\n",
            "Epoch 00009: val_loss did not improve from 0.52509\n",
            "391/391 [==============================] - 9s 23ms/step - loss: 0.5261 - val_loss: 0.5255\n",
            "Epoch 10/10\n",
            "391/391 [==============================] - ETA: 0s - loss: 0.5260\n",
            "Epoch 00010: val_loss did not improve from 0.52509\n",
            "391/391 [==============================] - 9s 23ms/step - loss: 0.5260 - val_loss: 0.5255\n"
          ],
          "name": "stdout"
        },
        {
          "output_type": "execute_result",
          "data": {
            "text/plain": [
              "<tensorflow.python.keras.callbacks.History at 0x7faeecf1b6a0>"
            ]
          },
          "metadata": {
            "tags": []
          },
          "execution_count": 11
        }
      ]
    },
    {
      "cell_type": "code",
      "metadata": {
        "id": "N6MaRZwERoH_",
        "outputId": "ee79d34e-596e-43b5-ef41-1cdefedb5f8d",
        "colab": {
          "base_uri": "https://localhost:8080/",
          "height": 162
        }
      },
      "source": [
        "test_data_denoised = dae.predict(test_data_noisy)\n",
        "idx = 4\n",
        "plt.subplot(1,3,1)\n",
        "plt.imshow(test_data_original[idx])\n",
        "plt.title('original')\n",
        "plt.subplot(1,3,2)\n",
        "plt.imshow(test_data_noisy[idx])\n",
        "plt.title('noisy')\n",
        "plt.subplot(1,3,3)\n",
        "plt.imshow(test_data_denoised[idx])\n",
        "plt.title('denoised')\n",
        "plt.show()"
      ],
      "execution_count": 12,
      "outputs": [
        {
          "output_type": "display_data",
          "data": {
            "image/png": "[encoded data removed]",
            "text/plain": [
              "<Figure size 432x288 with 3 Axes>"
            ]
          },
          "metadata": {
            "tags": [],
            "needs_background": "light"
          }
        }
      ]
    }
  ]
}