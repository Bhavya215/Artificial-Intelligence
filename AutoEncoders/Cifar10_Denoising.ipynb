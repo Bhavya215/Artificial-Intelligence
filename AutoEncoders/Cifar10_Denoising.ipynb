{
  "nbformat": 4,
  "nbformat_minor": 0,
  "metadata": {
    "colab": {
      "name": "Cifar10_Denoising.ipynb",
      "provenance": []
    },
    "kernelspec": {
      "name": "python3",
      "display_name": "Python 3"
    },
    "accelerator": "GPU"
  },
  "cells": [
    {
      "cell_type": "code",
      "metadata": {
        "id": "wXSXMeA-zOkw"
      },
      "source": [
        "import numpy as np\n",
        "import matplotlib.pyplot as plt\n",
        "from tensorflow.keras.layers import Conv2D, Input, Dense, Reshape, Conv2DTranspose,\\\n",
        "   Activation, BatchNormalization, ReLU, Concatenate\n",
        "from tensorflow.keras.models import Model\n",
        "from tensorflow.keras.callbacks import ModelCheckpoint\n",
        "from tensorflow.keras.datasets import cifar100, cifar10"
      ],
      "execution_count": 1,
      "outputs": []
    },
    {
      "cell_type": "markdown",
      "metadata": {
        "id": "nvZ0l6bQ1N3L"
      },
      "source": [
        "**Loading the dataset**"
      ]
    },
    {
      "cell_type": "code",
      "metadata": {
        "id": "CaMbkszIze1m"
      },
      "source": [
        "(train_data_original, _), (test_data_original, _) = cifar10.load_data()"
      ],
      "execution_count": 8,
      "outputs": []
    },
    {
      "cell_type": "code",
      "metadata": {
        "id": "jPPayQsuzup2"
      },
      "source": [
        "train_data_original = train_data_original.astype('float32') / 255.\n",
        "test_data_original = test_data_original.astype('float32') / 255."
      ],
      "execution_count": 9,
      "outputs": []
    },
    {
      "cell_type": "markdown",
      "metadata": {
        "id": "DqH8egYY1FJH"
      },
      "source": [
        "**Adding Noise to the dataset**"
      ]
    },
    {
      "cell_type": "code",
      "metadata": {
        "id": "4KIkNkin0YUR"
      },
      "source": [
        "#Gaussian Noise\n",
        "def add_noise_and_clip_data(data):\n",
        "   noise = np.random.normal(loc=0.0, scale=0.1, size=data.shape)\n",
        "   data = data + noise\n",
        "   data = np.clip(data, 0., 1.)\n",
        "   return data"
      ],
      "execution_count": 10,
      "outputs": []
    },
    {
      "cell_type": "code",
      "metadata": {
        "id": "IbK_cea00vzZ",
        "outputId": "25d075b2-418e-4f94-bd2a-bc13bd6d6e03",
        "colab": {
          "base_uri": "https://localhost:8080/",
          "height": 216
        }
      },
      "source": [
        "train_data_noisy = add_noise_and_clip_data(train_data_original)\n",
        "test_data_noisy = add_noise_and_clip_data(test_data_original)\n",
        "\n",
        "idx = 4\n",
        "plt.subplot(1,2,1)\n",
        "plt.imshow(train_data_original[idx])\n",
        "plt.title('Original image')\n",
        "plt.subplot(1,2,2)\n",
        "plt.imshow(train_data_noisy[idx])\n",
        "plt.title('Image with noise')\n",
        "plt.show()"
      ],
      "execution_count": 11,
      "outputs": [
        {
          "output_type": "display_data",
          "data": {
            "image/png": "[encoded data removed]",
            "text/plain": [
              "<Figure size 432x288 with 2 Axes>"
            ]
          },
          "metadata": {
            "tags": [],
            "needs_background": "light"
          }
        }
      ]
    },
    {
      "cell_type": "markdown",
      "metadata": {
        "id": "oN8jNT4U102r"
      },
      "source": [
        "**Convolutional Architecture**"
      ]
    },
    {
      "cell_type": "code",
      "metadata": {
        "id": "N-HesL1T1og_"
      },
      "source": [
        "def conv_block(x, filters, kernel_size, strides=2):\n",
        "   x = Conv2D(filters=filters,\n",
        "              kernel_size=kernel_size,\n",
        "              strides=strides,\n",
        "              padding='same')(x)\n",
        "   x = BatchNormalization()(x)\n",
        "   x = ReLU()(x)\n",
        "   return x\n",
        "  \n",
        "def deconv_block(x, filters, kernel_size):\n",
        "   x = Conv2DTranspose(filters=filters,\n",
        "                       kernel_size=kernel_size,\n",
        "                       strides=2,\n",
        "                       padding='same')(x)\n",
        "   x = BatchNormalization()(x)\n",
        "   x = ReLU()(x)\n",
        "   return x"
      ],
      "execution_count": 12,
      "outputs": []
    },
    {
      "cell_type": "markdown",
      "metadata": {
        "id": "zrogXKcC2Q7k"
      },
      "source": [
        "**Denoising the** **dataset**"
      ]
    },
    {
      "cell_type": "code",
      "metadata": {
        "id": "R8EW7XOV2HEC"
      },
      "source": [
        "def denoising_autoencoder():\n",
        "    dae_inputs = Input(shape=(32, 32, 3), name='dae_input')\n",
        "    conv_block1 = conv_block(dae_inputs, 32, 3)\n",
        "    conv_block2 = conv_block(conv_block1, 64, 3)\n",
        "    conv_block3 = conv_block(conv_block2, 128, 3)\n",
        "    conv_block4 = conv_block(conv_block3, 256, 3)\n",
        "    conv_block5 = conv_block(conv_block4, 256, 3, 1)\n",
        "\n",
        "    deconv_block1 = deconv_block(conv_block5, 256, 3)\n",
        "    merge1 = Concatenate()([deconv_block1, conv_block3])\n",
        "    deconv_block2 = deconv_block(merge1, 128, 3)\n",
        "    merge2 = Concatenate()([deconv_block2, conv_block2])\n",
        "    deconv_block3 = deconv_block(merge2, 64, 3)\n",
        "    merge3 = Concatenate()([deconv_block3, conv_block1])\n",
        "    deconv_block4 = deconv_block(merge3, 32, 3)\n",
        "\n",
        "    final_deconv = Conv2DTranspose(filters=3,\n",
        "                        kernel_size=3,\n",
        "                        padding='same')(deconv_block4)\n",
        "    dae_outputs = Activation('sigmoid', name='dae_output')(final_deconv)\n",
        "    \n",
        "    return Model(dae_inputs, dae_outputs, name='dae')"
      ],
      "execution_count": 30,
      "outputs": []
    },
    {
      "cell_type": "markdown",
      "metadata": {
        "id": "7kK6d8HJ4aMt"
      },
      "source": [
        "**Training the model**"
      ]
    },
    {
      "cell_type": "code",
      "metadata": {
        "id": "yrY_NuMs4UDn",
        "outputId": "cbf9e0f3-4de7-42fa-cca3-9c4dd39e55e9",
        "colab": {
          "base_uri": "https://localhost:8080/",
          "height": 706
        }
      },
      "source": [
        "  dae = denoising_autoencoder()\n",
        "  dae.compile(loss='mse', optimizer='adam')\n",
        "  \n",
        "  checkpoint = ModelCheckpoint('best_model.h5', verbose=1, save_best_only=True, save_weights_only=True)\n",
        "\n",
        "  dae.fit(train_data_noisy,\n",
        "        train_data_original,\n",
        "        validation_data=(test_data_noisy, test_data_original),\n",
        "        epochs=10,\n",
        "        batch_size=128,\n",
        "        callbacks=[checkpoint])"
      ],
      "execution_count": 37,
      "outputs": [
        {
          "output_type": "stream",
          "text": [
            "Epoch 1/10\n",
            "390/391 [============================>.] - ETA: 0s - loss: 0.0043\n",
            "Epoch 00001: val_loss improved from inf to 0.00483, saving model to best_model.h5\n",
            "391/391 [==============================] - 9s 23ms/step - loss: 0.0043 - val_loss: 0.0048\n",
            "Epoch 2/10\n",
            "391/391 [==============================] - ETA: 0s - loss: 0.0024\n",
            "Epoch 00002: val_loss improved from 0.00483 to 0.00225, saving model to best_model.h5\n",
            "391/391 [==============================] - 9s 22ms/step - loss: 0.0024 - val_loss: 0.0022\n",
            "Epoch 3/10\n",
            "391/391 [==============================] - ETA: 0s - loss: 0.0022\n",
            "Epoch 00003: val_loss improved from 0.00225 to 0.00210, saving model to best_model.h5\n",
            "391/391 [==============================] - 9s 23ms/step - loss: 0.0022 - val_loss: 0.0021\n",
            "Epoch 4/10\n",
            "391/391 [==============================] - ETA: 0s - loss: 0.0022\n",
            "Epoch 00004: val_loss improved from 0.00210 to 0.00194, saving model to best_model.h5\n",
            "391/391 [==============================] - 9s 23ms/step - loss: 0.0022 - val_loss: 0.0019\n",
            "Epoch 5/10\n",
            "391/391 [==============================] - ETA: 0s - loss: 0.0020\n",
            "Epoch 00005: val_loss did not improve from 0.00194\n",
            "391/391 [==============================] - 9s 22ms/step - loss: 0.0020 - val_loss: 0.0023\n",
            "Epoch 6/10\n",
            "391/391 [==============================] - ETA: 0s - loss: 0.0020\n",
            "Epoch 00006: val_loss improved from 0.00194 to 0.00184, saving model to best_model.h5\n",
            "391/391 [==============================] - 9s 22ms/step - loss: 0.0020 - val_loss: 0.0018\n",
            "Epoch 7/10\n",
            "391/391 [==============================] - ETA: 0s - loss: 0.0019\n",
            "Epoch 00007: val_loss did not improve from 0.00184\n",
            "391/391 [==============================] - 9s 22ms/step - loss: 0.0019 - val_loss: 0.0019\n",
            "Epoch 8/10\n",
            "391/391 [==============================] - ETA: 0s - loss: 0.0019\n",
            "Epoch 00008: val_loss did not improve from 0.00184\n",
            "391/391 [==============================] - 9s 22ms/step - loss: 0.0019 - val_loss: 0.0019\n",
            "Epoch 9/10\n",
            "391/391 [==============================] - ETA: 0s - loss: 0.0019\n",
            "Epoch 00009: val_loss improved from 0.00184 to 0.00173, saving model to best_model.h5\n",
            "391/391 [==============================] - 9s 22ms/step - loss: 0.0019 - val_loss: 0.0017\n",
            "Epoch 10/10\n",
            "391/391 [==============================] - ETA: 0s - loss: 0.0019\n",
            "Epoch 00010: val_loss did not improve from 0.00173\n",
            "391/391 [==============================] - 9s 22ms/step - loss: 0.0019 - val_loss: 0.0018\n"
          ],
          "name": "stdout"
        },
        {
          "output_type": "execute_result",
          "data": {
            "text/plain": [
              "<tensorflow.python.keras.callbacks.History at 0x7f641c1d61d0>"
            ]
          },
          "metadata": {
            "tags": []
          },
          "execution_count": 37
        }
      ]
    },
    {
      "cell_type": "markdown",
      "metadata": {
        "id": "eyKS8Q425hJ-"
      },
      "source": [
        "**Results**"
      ]
    },
    {
      "cell_type": "code",
      "metadata": {
        "id": "rnl4f5fv5kGr",
        "outputId": "94fa08df-edad-45bc-d5c8-009953fbc403",
        "colab": {
          "base_uri": "https://localhost:8080/",
          "height": 162
        }
      },
      "source": [
        "test_data_denoised = dae.predict(test_data_noisy)\n",
        "idx = 4\n",
        "plt.subplot(1,3,1)\n",
        "plt.imshow(test_data_original[idx])\n",
        "plt.title('original')\n",
        "plt.subplot(1,3,2)\n",
        "plt.imshow(test_data_noisy[idx])\n",
        "plt.title('noisy')\n",
        "plt.subplot(1,3,3)\n",
        "plt.imshow(test_data_denoised[idx])\n",
        "plt.title('denoised')\n",
        "plt.show()"
      ],
      "execution_count": 38,
      "outputs": [
        {
          "output_type": "display_data",
          "data": {
            "image/png": "[encoded data removed]",
            "text/plain": [
              "<Figure size 432x288 with 3 Axes>"
            ]
          },
          "metadata": {
            "tags": [],
            "needs_background": "light"
          }
        }
      ]
    }
  ]
}