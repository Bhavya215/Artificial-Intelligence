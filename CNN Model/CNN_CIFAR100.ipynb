{
  "nbformat": 4,
  "nbformat_minor": 0,
  "metadata": {
    "colab": {
      "name": "CNN_CIFAR100.ipynb",
      "provenance": []
    },
    "kernelspec": {
      "name": "python3",
      "display_name": "Python 3"
    },
    "accelerator": "GPU"
  },
  "cells": [
    {
      "cell_type": "code",
      "metadata": {
        "id": "8PQldcleb5wS"
      },
      "source": [
        "from tensorflow.keras.datasets import cifar100\n",
        "from tensorflow.keras.models import Sequential\n",
        "from tensorflow.keras.layers import Dense, Flatten, Conv2D, MaxPooling2D\n",
        "from tensorflow.keras.losses import sparse_categorical_crossentropy\n",
        "from tensorflow.keras.optimizers import Adam\n",
        "import matplotlib.pyplot as plt"
      ],
      "execution_count": 2,
      "outputs": []
    },
    {
      "cell_type": "code",
      "metadata": {
        "id": "SI3TkddUcG8l",
        "outputId": "acd7d91f-3b71-458e-e28d-b33b2758ea8a",
        "colab": {
          "base_uri": "https://localhost:8080/",
          "height": 50
        }
      },
      "source": [
        "#Loading the data\n",
        "(train_images, train_labels), (test_images, test_labels) = cifar100.load_data()\n",
        "\n",
        "#Normalize pixel values b/w 0 and 1\n",
        "train_images, test_images = train_images/255.0 , test_images/255.0"
      ],
      "execution_count": 3,
      "outputs": [
        {
          "output_type": "stream",
          "text": [
            "Downloading data from https://www.cs.toronto.edu/~kriz/cifar-100-python.tar.gz\n",
            "169009152/169001437 [==============================] - 14s 0us/step\n"
          ],
          "name": "stdout"
        }
      ]
    },
    {
      "cell_type": "markdown",
      "metadata": {
        "id": "GIdgEetbhB06"
      },
      "source": [
        "# *CNN MODEL*"
      ]
    },
    {
      "cell_type": "code",
      "metadata": {
        "id": "cnYQKlXrcegd",
        "outputId": "b4aa13b5-848c-48df-9eb7-e76a576ab934",
        "colab": {
          "base_uri": "https://localhost:8080/",
          "height": 353
        }
      },
      "source": [
        "#Create Convolution Base\n",
        "#input shape--> 32X32 image in cifar and 3 because of RGB\n",
        "model = Sequential()\n",
        "model.add(Conv2D(64,(3,3), activation='relu', input_shape=(32,32,3)))\n",
        "model.add(MaxPooling2D((2,2)))\n",
        "model.add(Conv2D(128,(3,3), activation='relu'))       \n",
        "model.add(MaxPooling2D((2,2)))\n",
        "model.add(Conv2D(256,(3,3), activation='relu'))       \n",
        "model.add(MaxPooling2D((2,2)))\n",
        "model.summary()"
      ],
      "execution_count": 15,
      "outputs": [
        {
          "output_type": "stream",
          "text": [
            "Model: \"sequential_2\"\n",
            "_________________________________________________________________\n",
            "Layer (type)                 Output Shape              Param #   \n",
            "=================================================================\n",
            "conv2d_6 (Conv2D)            (None, 30, 30, 64)        1792      \n",
            "_________________________________________________________________\n",
            "max_pooling2d_6 (MaxPooling2 (None, 15, 15, 64)        0         \n",
            "_________________________________________________________________\n",
            "conv2d_7 (Conv2D)            (None, 13, 13, 128)       73856     \n",
            "_________________________________________________________________\n",
            "max_pooling2d_7 (MaxPooling2 (None, 6, 6, 128)         0         \n",
            "_________________________________________________________________\n",
            "conv2d_8 (Conv2D)            (None, 4, 4, 256)         295168    \n",
            "_________________________________________________________________\n",
            "max_pooling2d_8 (MaxPooling2 (None, 2, 2, 256)         0         \n",
            "=================================================================\n",
            "Total params: 370,816\n",
            "Trainable params: 370,816\n",
            "Non-trainable params: 0\n",
            "_________________________________________________________________\n"
          ],
          "name": "stdout"
        }
      ]
    },
    {
      "cell_type": "code",
      "metadata": {
        "id": "qHuzUrsSgB24",
        "outputId": "302336ac-f727-4444-9eec-4687a2c45e06",
        "colab": {
          "base_uri": "https://localhost:8080/",
          "height": 487
        }
      },
      "source": [
        "#Flatten\n",
        "\n",
        "model.add(Flatten())\n",
        "model.add(Dense(256, activation='relu'))\n",
        "model.add(Dense(128, activation='relu'))\n",
        "model.add(Dense(100, activation='softmax'))\n",
        "\n",
        "model.summary()"
      ],
      "execution_count": 16,
      "outputs": [
        {
          "output_type": "stream",
          "text": [
            "Model: \"sequential_2\"\n",
            "_________________________________________________________________\n",
            "Layer (type)                 Output Shape              Param #   \n",
            "=================================================================\n",
            "conv2d_6 (Conv2D)            (None, 30, 30, 64)        1792      \n",
            "_________________________________________________________________\n",
            "max_pooling2d_6 (MaxPooling2 (None, 15, 15, 64)        0         \n",
            "_________________________________________________________________\n",
            "conv2d_7 (Conv2D)            (None, 13, 13, 128)       73856     \n",
            "_________________________________________________________________\n",
            "max_pooling2d_7 (MaxPooling2 (None, 6, 6, 128)         0         \n",
            "_________________________________________________________________\n",
            "conv2d_8 (Conv2D)            (None, 4, 4, 256)         295168    \n",
            "_________________________________________________________________\n",
            "max_pooling2d_8 (MaxPooling2 (None, 2, 2, 256)         0         \n",
            "_________________________________________________________________\n",
            "flatten_3 (Flatten)          (None, 1024)              0         \n",
            "_________________________________________________________________\n",
            "dense_9 (Dense)              (None, 256)               262400    \n",
            "_________________________________________________________________\n",
            "dense_10 (Dense)             (None, 128)               32896     \n",
            "_________________________________________________________________\n",
            "dense_11 (Dense)             (None, 100)               12900     \n",
            "=================================================================\n",
            "Total params: 679,012\n",
            "Trainable params: 679,012\n",
            "Non-trainable params: 0\n",
            "_________________________________________________________________\n"
          ],
          "name": "stdout"
        }
      ]
    },
    {
      "cell_type": "code",
      "metadata": {
        "id": "KwAaPdKOhG5B",
        "outputId": "601ef41f-a78f-4d95-ece0-e32b477e67bb",
        "colab": {
          "base_uri": "https://localhost:8080/",
          "height": 1000
        }
      },
      "source": [
        "#Compiling the model\n",
        "\n",
        "model.compile(optimizer='adam', loss='sparse_categorical_crossentropy', metrics=['accuracy'])\n",
        "history = model.fit(train_images, train_labels, epochs = 100, validation_data=(test_images, test_labels))"
      ],
      "execution_count": 19,
      "outputs": [
        {
          "output_type": "stream",
          "text": [
            "Epoch 1/100\n",
            "1563/1563 [==============================] - 7s 4ms/step - loss: 1.7190 - accuracy: 0.5237 - val_loss: 2.6160 - val_accuracy: 0.3697\n",
            "Epoch 2/100\n",
            "1563/1563 [==============================] - 6s 4ms/step - loss: 1.6183 - accuracy: 0.5502 - val_loss: 2.7067 - val_accuracy: 0.3717\n",
            "Epoch 3/100\n",
            "1563/1563 [==============================] - 6s 4ms/step - loss: 1.5294 - accuracy: 0.5678 - val_loss: 2.8663 - val_accuracy: 0.3584\n",
            "Epoch 4/100\n",
            "1563/1563 [==============================] - 7s 4ms/step - loss: 1.4416 - accuracy: 0.5894 - val_loss: 2.9015 - val_accuracy: 0.3668\n",
            "Epoch 5/100\n",
            "1563/1563 [==============================] - 6s 4ms/step - loss: 1.3581 - accuracy: 0.6105 - val_loss: 3.0659 - val_accuracy: 0.3531\n",
            "Epoch 6/100\n",
            "1563/1563 [==============================] - 6s 4ms/step - loss: 1.2794 - accuracy: 0.6283 - val_loss: 3.1636 - val_accuracy: 0.3610\n",
            "Epoch 7/100\n",
            "1563/1563 [==============================] - 6s 4ms/step - loss: 1.2062 - accuracy: 0.6468 - val_loss: 3.2106 - val_accuracy: 0.3533\n",
            "Epoch 8/100\n",
            "1563/1563 [==============================] - 6s 4ms/step - loss: 1.1417 - accuracy: 0.6630 - val_loss: 3.2571 - val_accuracy: 0.3566\n",
            "Epoch 9/100\n",
            "1563/1563 [==============================] - 6s 4ms/step - loss: 1.0653 - accuracy: 0.6828 - val_loss: 3.4682 - val_accuracy: 0.3531\n",
            "Epoch 10/100\n",
            "1563/1563 [==============================] - 6s 4ms/step - loss: 1.0199 - accuracy: 0.6947 - val_loss: 3.5149 - val_accuracy: 0.3512\n",
            "Epoch 11/100\n",
            "1563/1563 [==============================] - 6s 4ms/step - loss: 0.9603 - accuracy: 0.7110 - val_loss: 3.7140 - val_accuracy: 0.3446\n",
            "Epoch 12/100\n",
            "1563/1563 [==============================] - 6s 4ms/step - loss: 0.9220 - accuracy: 0.7193 - val_loss: 3.8284 - val_accuracy: 0.3416\n",
            "Epoch 13/100\n",
            "1563/1563 [==============================] - 6s 4ms/step - loss: 0.8581 - accuracy: 0.7394 - val_loss: 3.9528 - val_accuracy: 0.3457\n",
            "Epoch 14/100\n",
            "1563/1563 [==============================] - 6s 4ms/step - loss: 0.8208 - accuracy: 0.7494 - val_loss: 4.0914 - val_accuracy: 0.3457\n",
            "Epoch 15/100\n",
            "1563/1563 [==============================] - 6s 4ms/step - loss: 0.7742 - accuracy: 0.7575 - val_loss: 4.3644 - val_accuracy: 0.3418\n",
            "Epoch 16/100\n",
            "1563/1563 [==============================] - 6s 4ms/step - loss: 0.7603 - accuracy: 0.7627 - val_loss: 4.4866 - val_accuracy: 0.3363\n",
            "Epoch 17/100\n",
            "1563/1563 [==============================] - 6s 4ms/step - loss: 0.7182 - accuracy: 0.7763 - val_loss: 4.5093 - val_accuracy: 0.3365\n",
            "Epoch 18/100\n",
            "1563/1563 [==============================] - 7s 4ms/step - loss: 0.7019 - accuracy: 0.7807 - val_loss: 4.7311 - val_accuracy: 0.3353\n",
            "Epoch 19/100\n",
            "1563/1563 [==============================] - 6s 4ms/step - loss: 0.6693 - accuracy: 0.7902 - val_loss: 4.8134 - val_accuracy: 0.3407\n",
            "Epoch 20/100\n",
            "1563/1563 [==============================] - 6s 4ms/step - loss: 0.6396 - accuracy: 0.7992 - val_loss: 5.1362 - val_accuracy: 0.3319\n",
            "Epoch 21/100\n",
            "1563/1563 [==============================] - 6s 4ms/step - loss: 0.6239 - accuracy: 0.8018 - val_loss: 5.2327 - val_accuracy: 0.3357\n",
            "Epoch 22/100\n",
            "1563/1563 [==============================] - 6s 4ms/step - loss: 0.6120 - accuracy: 0.8078 - val_loss: 5.2428 - val_accuracy: 0.3313\n",
            "Epoch 23/100\n",
            "1563/1563 [==============================] - 6s 4ms/step - loss: 0.5944 - accuracy: 0.8121 - val_loss: 5.3974 - val_accuracy: 0.3296\n",
            "Epoch 24/100\n",
            "1563/1563 [==============================] - 6s 4ms/step - loss: 0.5609 - accuracy: 0.8204 - val_loss: 5.8063 - val_accuracy: 0.3287\n",
            "Epoch 25/100\n",
            "1563/1563 [==============================] - 6s 4ms/step - loss: 0.5488 - accuracy: 0.8258 - val_loss: 5.7338 - val_accuracy: 0.3312\n",
            "Epoch 26/100\n",
            "1563/1563 [==============================] - 7s 4ms/step - loss: 0.5396 - accuracy: 0.8286 - val_loss: 5.8065 - val_accuracy: 0.3286\n",
            "Epoch 27/100\n",
            "1563/1563 [==============================] - 7s 4ms/step - loss: 0.5222 - accuracy: 0.8335 - val_loss: 5.9810 - val_accuracy: 0.3349\n",
            "Epoch 28/100\n",
            "1563/1563 [==============================] - 7s 4ms/step - loss: 0.5179 - accuracy: 0.8353 - val_loss: 6.2600 - val_accuracy: 0.3328\n",
            "Epoch 29/100\n",
            "1563/1563 [==============================] - 6s 4ms/step - loss: 0.5028 - accuracy: 0.8399 - val_loss: 6.5319 - val_accuracy: 0.3247\n",
            "Epoch 30/100\n",
            "1563/1563 [==============================] - 6s 4ms/step - loss: 0.4922 - accuracy: 0.8432 - val_loss: 6.3880 - val_accuracy: 0.3261\n",
            "Epoch 31/100\n",
            "1563/1563 [==============================] - 6s 4ms/step - loss: 0.5069 - accuracy: 0.8403 - val_loss: 6.4465 - val_accuracy: 0.3294\n",
            "Epoch 32/100\n",
            "1563/1563 [==============================] - 6s 4ms/step - loss: 0.4777 - accuracy: 0.8476 - val_loss: 6.7312 - val_accuracy: 0.3241\n",
            "Epoch 33/100\n",
            "1563/1563 [==============================] - 6s 4ms/step - loss: 0.4719 - accuracy: 0.8502 - val_loss: 6.7085 - val_accuracy: 0.3258\n",
            "Epoch 34/100\n",
            "1563/1563 [==============================] - 6s 4ms/step - loss: 0.4701 - accuracy: 0.8515 - val_loss: 6.9849 - val_accuracy: 0.3218\n",
            "Epoch 35/100\n",
            "1563/1563 [==============================] - 6s 4ms/step - loss: 0.4438 - accuracy: 0.8609 - val_loss: 7.0859 - val_accuracy: 0.3275\n",
            "Epoch 36/100\n",
            "1563/1563 [==============================] - 6s 4ms/step - loss: 0.4533 - accuracy: 0.8587 - val_loss: 7.0809 - val_accuracy: 0.3291\n",
            "Epoch 37/100\n",
            "1563/1563 [==============================] - 6s 4ms/step - loss: 0.4428 - accuracy: 0.8628 - val_loss: 7.3226 - val_accuracy: 0.3283\n",
            "Epoch 38/100\n",
            "1563/1563 [==============================] - 6s 4ms/step - loss: 0.4390 - accuracy: 0.8647 - val_loss: 7.1800 - val_accuracy: 0.3261\n",
            "Epoch 39/100\n",
            "1563/1563 [==============================] - 6s 4ms/step - loss: 0.4497 - accuracy: 0.8611 - val_loss: 7.5683 - val_accuracy: 0.3218\n",
            "Epoch 40/100\n",
            "1563/1563 [==============================] - 6s 4ms/step - loss: 0.4417 - accuracy: 0.8640 - val_loss: 7.5954 - val_accuracy: 0.3280\n",
            "Epoch 41/100\n",
            "1563/1563 [==============================] - 6s 4ms/step - loss: 0.4402 - accuracy: 0.8653 - val_loss: 7.3284 - val_accuracy: 0.3265\n",
            "Epoch 42/100\n",
            "1563/1563 [==============================] - 6s 4ms/step - loss: 0.4208 - accuracy: 0.8692 - val_loss: 7.7548 - val_accuracy: 0.3302\n",
            "Epoch 43/100\n",
            "1563/1563 [==============================] - 6s 4ms/step - loss: 0.4217 - accuracy: 0.8712 - val_loss: 7.6076 - val_accuracy: 0.3204\n",
            "Epoch 44/100\n",
            "1563/1563 [==============================] - 6s 4ms/step - loss: 0.4165 - accuracy: 0.8711 - val_loss: 7.7066 - val_accuracy: 0.3210\n",
            "Epoch 45/100\n",
            "1563/1563 [==============================] - 6s 4ms/step - loss: 0.4351 - accuracy: 0.8676 - val_loss: 7.8419 - val_accuracy: 0.3263\n",
            "Epoch 46/100\n",
            "1563/1563 [==============================] - 6s 4ms/step - loss: 0.4156 - accuracy: 0.8730 - val_loss: 7.8177 - val_accuracy: 0.3198\n",
            "Epoch 47/100\n",
            "1563/1563 [==============================] - 6s 4ms/step - loss: 0.3995 - accuracy: 0.8770 - val_loss: 8.2336 - val_accuracy: 0.3172\n",
            "Epoch 48/100\n",
            "1563/1563 [==============================] - 6s 4ms/step - loss: 0.4136 - accuracy: 0.8759 - val_loss: 8.2943 - val_accuracy: 0.3217\n",
            "Epoch 49/100\n",
            "1563/1563 [==============================] - 6s 4ms/step - loss: 0.4039 - accuracy: 0.8781 - val_loss: 8.3657 - val_accuracy: 0.3216\n",
            "Epoch 50/100\n",
            "1563/1563 [==============================] - 6s 4ms/step - loss: 0.4127 - accuracy: 0.8764 - val_loss: 8.3505 - val_accuracy: 0.3130\n",
            "Epoch 51/100\n",
            "1563/1563 [==============================] - 6s 4ms/step - loss: 0.3775 - accuracy: 0.8845 - val_loss: 8.4168 - val_accuracy: 0.3258\n",
            "Epoch 52/100\n",
            "1563/1563 [==============================] - 7s 4ms/step - loss: 0.4014 - accuracy: 0.8798 - val_loss: 8.2197 - val_accuracy: 0.3235\n",
            "Epoch 53/100\n",
            "1563/1563 [==============================] - 6s 4ms/step - loss: 0.3946 - accuracy: 0.8821 - val_loss: 8.4340 - val_accuracy: 0.3161\n",
            "Epoch 54/100\n",
            "1563/1563 [==============================] - 6s 4ms/step - loss: 0.4109 - accuracy: 0.8792 - val_loss: 8.4439 - val_accuracy: 0.3237\n",
            "Epoch 55/100\n",
            "1563/1563 [==============================] - 6s 4ms/step - loss: 0.3729 - accuracy: 0.8880 - val_loss: 8.8786 - val_accuracy: 0.3276\n",
            "Epoch 56/100\n",
            "1563/1563 [==============================] - 6s 4ms/step - loss: 0.3973 - accuracy: 0.8831 - val_loss: 8.7577 - val_accuracy: 0.3190\n",
            "Epoch 57/100\n",
            "1563/1563 [==============================] - 6s 4ms/step - loss: 0.3862 - accuracy: 0.8855 - val_loss: 8.9724 - val_accuracy: 0.3071\n",
            "Epoch 58/100\n",
            "1563/1563 [==============================] - 6s 4ms/step - loss: 0.3806 - accuracy: 0.8871 - val_loss: 9.0561 - val_accuracy: 0.3191\n",
            "Epoch 59/100\n",
            "1563/1563 [==============================] - 6s 4ms/step - loss: 0.3724 - accuracy: 0.8907 - val_loss: 9.0784 - val_accuracy: 0.3149\n",
            "Epoch 60/100\n",
            "1563/1563 [==============================] - 6s 4ms/step - loss: 0.3858 - accuracy: 0.8870 - val_loss: 9.2158 - val_accuracy: 0.3156\n",
            "Epoch 61/100\n",
            "1563/1563 [==============================] - 6s 4ms/step - loss: 0.3795 - accuracy: 0.8896 - val_loss: 9.0843 - val_accuracy: 0.3204\n",
            "Epoch 62/100\n",
            "1563/1563 [==============================] - 6s 4ms/step - loss: 0.3872 - accuracy: 0.8864 - val_loss: 9.1376 - val_accuracy: 0.3224\n",
            "Epoch 63/100\n",
            "1563/1563 [==============================] - 6s 4ms/step - loss: 0.3612 - accuracy: 0.8931 - val_loss: 9.7256 - val_accuracy: 0.3141\n",
            "Epoch 64/100\n",
            "1563/1563 [==============================] - 6s 4ms/step - loss: 0.4199 - accuracy: 0.8808 - val_loss: 9.3660 - val_accuracy: 0.3183\n",
            "Epoch 65/100\n",
            "1563/1563 [==============================] - 6s 4ms/step - loss: 0.3584 - accuracy: 0.8955 - val_loss: 9.5703 - val_accuracy: 0.3143\n",
            "Epoch 66/100\n",
            "1563/1563 [==============================] - 6s 4ms/step - loss: 0.3673 - accuracy: 0.8934 - val_loss: 9.8137 - val_accuracy: 0.3154\n",
            "Epoch 67/100\n",
            "1563/1563 [==============================] - 6s 4ms/step - loss: 0.3767 - accuracy: 0.8933 - val_loss: 9.5392 - val_accuracy: 0.3199\n",
            "Epoch 68/100\n",
            "1563/1563 [==============================] - 6s 4ms/step - loss: 0.3690 - accuracy: 0.8946 - val_loss: 9.7496 - val_accuracy: 0.3139\n",
            "Epoch 69/100\n",
            "1563/1563 [==============================] - 6s 4ms/step - loss: 0.3690 - accuracy: 0.8941 - val_loss: 9.7000 - val_accuracy: 0.3172\n",
            "Epoch 70/100\n",
            "1563/1563 [==============================] - 6s 4ms/step - loss: 0.3686 - accuracy: 0.8953 - val_loss: 9.8205 - val_accuracy: 0.3197\n",
            "Epoch 71/100\n",
            "1563/1563 [==============================] - 6s 4ms/step - loss: 0.3734 - accuracy: 0.8933 - val_loss: 9.7914 - val_accuracy: 0.3180\n",
            "Epoch 72/100\n",
            "1563/1563 [==============================] - 6s 4ms/step - loss: 0.3647 - accuracy: 0.8961 - val_loss: 9.8878 - val_accuracy: 0.3217\n",
            "Epoch 73/100\n",
            "1563/1563 [==============================] - 6s 4ms/step - loss: 0.3638 - accuracy: 0.8974 - val_loss: 10.2034 - val_accuracy: 0.3119\n",
            "Epoch 74/100\n",
            "1563/1563 [==============================] - 6s 4ms/step - loss: 0.3554 - accuracy: 0.8973 - val_loss: 9.9242 - val_accuracy: 0.3208\n",
            "Epoch 75/100\n",
            "1563/1563 [==============================] - 7s 4ms/step - loss: 0.3709 - accuracy: 0.8952 - val_loss: 10.0148 - val_accuracy: 0.3183\n",
            "Epoch 76/100\n",
            "1563/1563 [==============================] - 7s 4ms/step - loss: 0.3674 - accuracy: 0.8978 - val_loss: 10.2245 - val_accuracy: 0.3144\n",
            "Epoch 77/100\n",
            "1563/1563 [==============================] - 6s 4ms/step - loss: 0.3695 - accuracy: 0.8962 - val_loss: 10.1620 - val_accuracy: 0.3182\n",
            "Epoch 78/100\n",
            "1563/1563 [==============================] - 6s 4ms/step - loss: 0.3553 - accuracy: 0.8989 - val_loss: 10.9454 - val_accuracy: 0.3136\n",
            "Epoch 79/100\n",
            "1563/1563 [==============================] - 6s 4ms/step - loss: 0.3663 - accuracy: 0.8971 - val_loss: 10.2440 - val_accuracy: 0.3199\n",
            "Epoch 80/100\n",
            "1563/1563 [==============================] - 6s 4ms/step - loss: 0.3496 - accuracy: 0.9014 - val_loss: 10.4066 - val_accuracy: 0.3190\n",
            "Epoch 81/100\n",
            "1563/1563 [==============================] - 6s 4ms/step - loss: 0.3708 - accuracy: 0.8972 - val_loss: 10.3837 - val_accuracy: 0.3161\n",
            "Epoch 82/100\n",
            "1563/1563 [==============================] - 6s 4ms/step - loss: 0.3591 - accuracy: 0.9009 - val_loss: 10.5564 - val_accuracy: 0.3176\n",
            "Epoch 83/100\n",
            "1563/1563 [==============================] - 6s 4ms/step - loss: 0.3560 - accuracy: 0.9006 - val_loss: 10.5097 - val_accuracy: 0.3130\n",
            "Epoch 84/100\n",
            "1563/1563 [==============================] - 6s 4ms/step - loss: 0.3441 - accuracy: 0.9030 - val_loss: 10.6687 - val_accuracy: 0.3113\n",
            "Epoch 85/100\n",
            "1563/1563 [==============================] - 6s 4ms/step - loss: 0.3445 - accuracy: 0.9039 - val_loss: 10.7292 - val_accuracy: 0.3181\n",
            "Epoch 86/100\n",
            "1563/1563 [==============================] - 6s 4ms/step - loss: 0.3676 - accuracy: 0.8987 - val_loss: 10.7997 - val_accuracy: 0.3172\n",
            "Epoch 87/100\n",
            "1563/1563 [==============================] - 6s 4ms/step - loss: 0.3422 - accuracy: 0.9058 - val_loss: 11.0030 - val_accuracy: 0.3088\n",
            "Epoch 88/100\n",
            "1563/1563 [==============================] - 6s 4ms/step - loss: 0.3527 - accuracy: 0.9007 - val_loss: 10.9103 - val_accuracy: 0.3178\n",
            "Epoch 89/100\n",
            "1563/1563 [==============================] - 6s 4ms/step - loss: 0.3429 - accuracy: 0.9069 - val_loss: 10.8449 - val_accuracy: 0.3136\n",
            "Epoch 90/100\n",
            "1563/1563 [==============================] - 6s 4ms/step - loss: 0.3661 - accuracy: 0.8993 - val_loss: 10.9990 - val_accuracy: 0.3118\n",
            "Epoch 91/100\n",
            "1563/1563 [==============================] - 6s 4ms/step - loss: 0.3288 - accuracy: 0.9075 - val_loss: 11.0160 - val_accuracy: 0.3194\n",
            "Epoch 92/100\n",
            "1563/1563 [==============================] - 6s 4ms/step - loss: 0.3571 - accuracy: 0.9011 - val_loss: 11.0476 - val_accuracy: 0.3177\n",
            "Epoch 93/100\n",
            "1563/1563 [==============================] - 6s 4ms/step - loss: 0.3331 - accuracy: 0.9086 - val_loss: 11.0284 - val_accuracy: 0.3101\n",
            "Epoch 94/100\n",
            "1563/1563 [==============================] - 6s 4ms/step - loss: 0.3545 - accuracy: 0.9050 - val_loss: 11.0971 - val_accuracy: 0.3209\n",
            "Epoch 95/100\n",
            "1563/1563 [==============================] - 6s 4ms/step - loss: 0.3475 - accuracy: 0.9065 - val_loss: 11.0893 - val_accuracy: 0.3162\n",
            "Epoch 96/100\n",
            "1563/1563 [==============================] - 6s 4ms/step - loss: 0.3338 - accuracy: 0.9086 - val_loss: 11.2735 - val_accuracy: 0.3141\n",
            "Epoch 97/100\n",
            "1563/1563 [==============================] - 6s 4ms/step - loss: 0.3532 - accuracy: 0.9053 - val_loss: 11.4488 - val_accuracy: 0.3194\n",
            "Epoch 98/100\n",
            "1563/1563 [==============================] - 6s 4ms/step - loss: 0.3439 - accuracy: 0.9061 - val_loss: 11.1108 - val_accuracy: 0.3142\n",
            "Epoch 99/100\n",
            "1563/1563 [==============================] - 7s 4ms/step - loss: 0.3324 - accuracy: 0.9107 - val_loss: 11.2654 - val_accuracy: 0.3183\n",
            "Epoch 100/100\n",
            "1563/1563 [==============================] - 6s 4ms/step - loss: 0.3636 - accuracy: 0.9062 - val_loss: 11.2690 - val_accuracy: 0.3133\n"
          ],
          "name": "stdout"
        }
      ]
    },
    {
      "cell_type": "code",
      "metadata": {
        "id": "QrZC0CdeiP3s",
        "outputId": "142968a1-f555-4ba4-8445-edba20263de5",
        "colab": {
          "base_uri": "https://localhost:8080/",
          "height": 300
        }
      },
      "source": [
        "plt.plot(history.history['accuracy'], label='accuracy')\n",
        "plt.plot(history.history['val_accuracy'], label='val_accuracy')\n",
        "plt.xlabel('Epoch')\n",
        "plt.ylabel('Accuracy')\n",
        "plt.ylim([0,1])\n",
        "plt.legend(loc='lower right')\n",
        "\n",
        "test_loss, test_acc_cnn = model.evaluate(test_images, test_labels)"
      ],
      "execution_count": 20,
      "outputs": [
        {
          "output_type": "stream",
          "text": [
            "313/313 [==============================] - 1s 3ms/step - loss: 11.2690 - accuracy: 0.3133\n"
          ],
          "name": "stdout"
        },
        {
          "output_type": "display_data",
          "data": {
            "image/png": "[encoded data removed]",
            "text/plain": [
              "<Figure size 432x288 with 1 Axes>"
            ]
          },
          "metadata": {
            "tags": [],
            "needs_background": "light"
          }
        }
      ]
    },
    {
      "cell_type": "code",
      "metadata": {
        "id": "0Y-NEkzzj473",
        "outputId": "73c28489-e745-4981-b327-d665869d94af",
        "colab": {
          "base_uri": "https://localhost:8080/",
          "height": 34
        }
      },
      "source": [
        "print(test_acc_cnn)"
      ],
      "execution_count": 21,
      "outputs": [
        {
          "output_type": "stream",
          "text": [
            "0.3133000135421753\n"
          ],
          "name": "stdout"
        }
      ]
    },
    {
      "cell_type": "markdown",
      "metadata": {
        "id": "Rdf3jl7WkAbI"
      },
      "source": [
        "# *FEED FORWARD NEURAL NETWORK*"
      ]
    },
    {
      "cell_type": "code",
      "metadata": {
        "id": "pUZyZahgkNLF",
        "outputId": "18c667ce-3f70-4b47-b1d7-e2196c9a1755",
        "colab": {
          "base_uri": "https://localhost:8080/",
          "height": 353
        }
      },
      "source": [
        "model = Sequential()\n",
        "model.add(Flatten(input_shape=(32,32,3)))\n",
        "model.add(Dense(1000, activation='relu'))\n",
        "model.add(Dense(500, activation='relu'))\n",
        "model.add(Dense(250, activation='relu'))\n",
        "model.add(Dense(125, activation='relu'))\n",
        "model.add(Dense(100, activation='softmax'))\n",
        "\n",
        "model.summary()"
      ],
      "execution_count": 23,
      "outputs": [
        {
          "output_type": "stream",
          "text": [
            "Model: \"sequential_3\"\n",
            "_________________________________________________________________\n",
            "Layer (type)                 Output Shape              Param #   \n",
            "=================================================================\n",
            "flatten_4 (Flatten)          (None, 3072)              0         \n",
            "_________________________________________________________________\n",
            "dense_12 (Dense)             (None, 1000)              3073000   \n",
            "_________________________________________________________________\n",
            "dense_13 (Dense)             (None, 500)               500500    \n",
            "_________________________________________________________________\n",
            "dense_14 (Dense)             (None, 250)               125250    \n",
            "_________________________________________________________________\n",
            "dense_15 (Dense)             (None, 125)               31375     \n",
            "_________________________________________________________________\n",
            "dense_16 (Dense)             (None, 100)               12600     \n",
            "=================================================================\n",
            "Total params: 3,742,725\n",
            "Trainable params: 3,742,725\n",
            "Non-trainable params: 0\n",
            "_________________________________________________________________\n"
          ],
          "name": "stdout"
        }
      ]
    },
    {
      "cell_type": "code",
      "metadata": {
        "id": "hMu5JK7hk0iN",
        "outputId": "ae355b36-a350-413e-8d6a-e8d3d34d8ddc",
        "colab": {
          "base_uri": "https://localhost:8080/",
          "height": 1000
        }
      },
      "source": [
        "#Compiling the model\n",
        "\n",
        "model.compile(optimizer='adam', loss='sparse_categorical_crossentropy', metrics=['accuracy'])\n",
        "history = model.fit(train_images, train_labels, epochs=100, validation_data=(test_images, test_labels)) "
      ],
      "execution_count": 25,
      "outputs": [
        {
          "output_type": "stream",
          "text": [
            "Epoch 1/100\n",
            "1563/1563 [==============================] - 5s 3ms/step - loss: 3.2182 - accuracy: 0.2109 - val_loss: 3.4426 - val_accuracy: 0.1894\n",
            "Epoch 2/100\n",
            "1563/1563 [==============================] - 5s 3ms/step - loss: 3.1825 - accuracy: 0.2196 - val_loss: 3.3862 - val_accuracy: 0.1918\n",
            "Epoch 3/100\n",
            "1563/1563 [==============================] - 5s 3ms/step - loss: 3.1484 - accuracy: 0.2236 - val_loss: 3.4361 - val_accuracy: 0.1887\n",
            "Epoch 4/100\n",
            "1563/1563 [==============================] - 5s 3ms/step - loss: 3.1250 - accuracy: 0.2273 - val_loss: 3.3990 - val_accuracy: 0.1980\n",
            "Epoch 5/100\n",
            "1563/1563 [==============================] - 5s 3ms/step - loss: 3.0983 - accuracy: 0.2317 - val_loss: 3.4208 - val_accuracy: 0.1985\n",
            "Epoch 6/100\n",
            "1563/1563 [==============================] - 5s 3ms/step - loss: 3.0656 - accuracy: 0.2370 - val_loss: 3.4653 - val_accuracy: 0.1929\n",
            "Epoch 7/100\n",
            "1563/1563 [==============================] - 5s 3ms/step - loss: 3.0418 - accuracy: 0.2408 - val_loss: 3.4340 - val_accuracy: 0.1967\n",
            "Epoch 8/100\n",
            "1563/1563 [==============================] - 5s 3ms/step - loss: 3.0270 - accuracy: 0.2457 - val_loss: 3.4569 - val_accuracy: 0.1965\n",
            "Epoch 9/100\n",
            "1563/1563 [==============================] - 5s 3ms/step - loss: 2.9910 - accuracy: 0.2526 - val_loss: 3.4484 - val_accuracy: 0.2014\n",
            "Epoch 10/100\n",
            "1563/1563 [==============================] - 5s 3ms/step - loss: 2.9691 - accuracy: 0.2572 - val_loss: 3.4452 - val_accuracy: 0.2067\n",
            "Epoch 11/100\n",
            "1563/1563 [==============================] - 5s 3ms/step - loss: 2.9492 - accuracy: 0.2578 - val_loss: 3.4681 - val_accuracy: 0.2019\n",
            "Epoch 12/100\n",
            "1563/1563 [==============================] - 5s 3ms/step - loss: 2.9255 - accuracy: 0.2622 - val_loss: 3.5326 - val_accuracy: 0.1973\n",
            "Epoch 13/100\n",
            "1563/1563 [==============================] - 5s 3ms/step - loss: 2.9117 - accuracy: 0.2675 - val_loss: 3.5841 - val_accuracy: 0.1903\n",
            "Epoch 14/100\n",
            "1563/1563 [==============================] - 5s 3ms/step - loss: 2.8867 - accuracy: 0.2708 - val_loss: 3.5093 - val_accuracy: 0.2015\n",
            "Epoch 15/100\n",
            "1563/1563 [==============================] - 5s 3ms/step - loss: 2.8753 - accuracy: 0.2726 - val_loss: 3.5990 - val_accuracy: 0.1969\n",
            "Epoch 16/100\n",
            "1563/1563 [==============================] - 5s 3ms/step - loss: 2.8500 - accuracy: 0.2798 - val_loss: 3.5777 - val_accuracy: 0.2014\n",
            "Epoch 17/100\n",
            "1563/1563 [==============================] - 5s 3ms/step - loss: 2.8353 - accuracy: 0.2805 - val_loss: 3.5618 - val_accuracy: 0.2038\n",
            "Epoch 18/100\n",
            "1563/1563 [==============================] - 5s 3ms/step - loss: 2.8157 - accuracy: 0.2860 - val_loss: 3.5966 - val_accuracy: 0.1982\n",
            "Epoch 19/100\n",
            "1563/1563 [==============================] - 5s 3ms/step - loss: 2.8029 - accuracy: 0.2883 - val_loss: 3.5842 - val_accuracy: 0.2034\n",
            "Epoch 20/100\n",
            "1563/1563 [==============================] - 5s 3ms/step - loss: 2.7784 - accuracy: 0.2921 - val_loss: 3.6473 - val_accuracy: 0.1936\n",
            "Epoch 21/100\n",
            "1563/1563 [==============================] - 5s 3ms/step - loss: 2.7602 - accuracy: 0.2947 - val_loss: 3.7132 - val_accuracy: 0.1962\n",
            "Epoch 22/100\n",
            "1563/1563 [==============================] - 5s 3ms/step - loss: 2.7455 - accuracy: 0.2996 - val_loss: 3.6530 - val_accuracy: 0.2004\n",
            "Epoch 23/100\n",
            "1563/1563 [==============================] - 5s 3ms/step - loss: 2.7387 - accuracy: 0.3013 - val_loss: 3.6831 - val_accuracy: 0.1956\n",
            "Epoch 24/100\n",
            "1563/1563 [==============================] - 5s 3ms/step - loss: 2.7243 - accuracy: 0.3041 - val_loss: 3.6772 - val_accuracy: 0.2007\n",
            "Epoch 25/100\n",
            "1563/1563 [==============================] - 5s 3ms/step - loss: 2.6980 - accuracy: 0.3081 - val_loss: 3.7255 - val_accuracy: 0.1968\n",
            "Epoch 26/100\n",
            "1563/1563 [==============================] - 5s 3ms/step - loss: 2.6846 - accuracy: 0.3118 - val_loss: 3.8432 - val_accuracy: 0.1996\n",
            "Epoch 27/100\n",
            "1563/1563 [==============================] - 5s 3ms/step - loss: 2.6814 - accuracy: 0.3132 - val_loss: 3.8444 - val_accuracy: 0.2000\n",
            "Epoch 28/100\n",
            "1563/1563 [==============================] - 5s 3ms/step - loss: 2.6651 - accuracy: 0.3135 - val_loss: 3.8614 - val_accuracy: 0.1965\n",
            "Epoch 29/100\n",
            "1563/1563 [==============================] - 5s 3ms/step - loss: 2.6516 - accuracy: 0.3204 - val_loss: 3.8024 - val_accuracy: 0.1986\n",
            "Epoch 30/100\n",
            "1563/1563 [==============================] - 5s 3ms/step - loss: 2.6372 - accuracy: 0.3202 - val_loss: 3.9108 - val_accuracy: 0.1986\n",
            "Epoch 31/100\n",
            "1563/1563 [==============================] - 5s 3ms/step - loss: 2.6200 - accuracy: 0.3236 - val_loss: 4.0112 - val_accuracy: 0.1906\n",
            "Epoch 32/100\n",
            "1563/1563 [==============================] - 5s 3ms/step - loss: 2.6149 - accuracy: 0.3230 - val_loss: 3.9674 - val_accuracy: 0.1901\n",
            "Epoch 33/100\n",
            "1563/1563 [==============================] - 5s 3ms/step - loss: 2.6001 - accuracy: 0.3300 - val_loss: 3.9309 - val_accuracy: 0.1982\n",
            "Epoch 34/100\n",
            "1563/1563 [==============================] - 5s 3ms/step - loss: 2.5918 - accuracy: 0.3332 - val_loss: 3.9896 - val_accuracy: 0.1989\n",
            "Epoch 35/100\n",
            "1563/1563 [==============================] - 5s 3ms/step - loss: 2.5668 - accuracy: 0.3366 - val_loss: 3.9657 - val_accuracy: 0.1956\n",
            "Epoch 36/100\n",
            "1563/1563 [==============================] - 5s 3ms/step - loss: 2.5725 - accuracy: 0.3373 - val_loss: 4.1182 - val_accuracy: 0.1855\n",
            "Epoch 37/100\n",
            "1563/1563 [==============================] - 5s 3ms/step - loss: 2.5517 - accuracy: 0.3413 - val_loss: 4.0205 - val_accuracy: 0.1971\n",
            "Epoch 38/100\n",
            "1563/1563 [==============================] - 5s 3ms/step - loss: 2.5468 - accuracy: 0.3418 - val_loss: 4.0882 - val_accuracy: 0.1917\n",
            "Epoch 39/100\n",
            "1563/1563 [==============================] - 5s 3ms/step - loss: 2.5488 - accuracy: 0.3422 - val_loss: 4.0325 - val_accuracy: 0.1936\n",
            "Epoch 40/100\n",
            "1563/1563 [==============================] - 5s 3ms/step - loss: 2.5257 - accuracy: 0.3452 - val_loss: 4.1408 - val_accuracy: 0.2027\n",
            "Epoch 41/100\n",
            "1563/1563 [==============================] - 5s 3ms/step - loss: 2.5072 - accuracy: 0.3490 - val_loss: 4.1045 - val_accuracy: 0.1941\n",
            "Epoch 42/100\n",
            "1563/1563 [==============================] - 5s 3ms/step - loss: 2.5117 - accuracy: 0.3488 - val_loss: 4.3316 - val_accuracy: 0.1920\n",
            "Epoch 43/100\n",
            "1563/1563 [==============================] - 5s 3ms/step - loss: 2.5052 - accuracy: 0.3510 - val_loss: 4.2379 - val_accuracy: 0.1915\n",
            "Epoch 44/100\n",
            "1563/1563 [==============================] - 5s 3ms/step - loss: 2.4936 - accuracy: 0.3530 - val_loss: 4.2101 - val_accuracy: 0.1987\n",
            "Epoch 45/100\n",
            "1563/1563 [==============================] - 5s 3ms/step - loss: 2.4666 - accuracy: 0.3601 - val_loss: 4.2316 - val_accuracy: 0.1925\n",
            "Epoch 46/100\n",
            "1563/1563 [==============================] - 5s 3ms/step - loss: 2.4699 - accuracy: 0.3601 - val_loss: 4.2619 - val_accuracy: 0.1900\n",
            "Epoch 47/100\n",
            "1563/1563 [==============================] - 5s 3ms/step - loss: 2.4555 - accuracy: 0.3613 - val_loss: 4.2720 - val_accuracy: 0.1928\n",
            "Epoch 48/100\n",
            "1563/1563 [==============================] - 5s 3ms/step - loss: 2.4491 - accuracy: 0.3618 - val_loss: 4.2342 - val_accuracy: 0.1937\n",
            "Epoch 49/100\n",
            "1563/1563 [==============================] - 5s 3ms/step - loss: 2.4530 - accuracy: 0.3627 - val_loss: 4.3098 - val_accuracy: 0.1959\n",
            "Epoch 50/100\n",
            "1563/1563 [==============================] - 5s 3ms/step - loss: 2.4400 - accuracy: 0.3635 - val_loss: 4.4154 - val_accuracy: 0.1906\n",
            "Epoch 51/100\n",
            "1563/1563 [==============================] - 5s 3ms/step - loss: 2.4290 - accuracy: 0.3660 - val_loss: 4.4443 - val_accuracy: 0.1952\n",
            "Epoch 52/100\n",
            "1563/1563 [==============================] - 5s 3ms/step - loss: 2.4250 - accuracy: 0.3693 - val_loss: 4.5029 - val_accuracy: 0.1880\n",
            "Epoch 53/100\n",
            "1563/1563 [==============================] - 5s 3ms/step - loss: 2.4208 - accuracy: 0.3671 - val_loss: 4.5544 - val_accuracy: 0.1909\n",
            "Epoch 54/100\n",
            "1563/1563 [==============================] - 5s 3ms/step - loss: 2.3985 - accuracy: 0.3749 - val_loss: 4.4747 - val_accuracy: 0.1962\n",
            "Epoch 55/100\n",
            "1563/1563 [==============================] - 5s 3ms/step - loss: 2.4043 - accuracy: 0.3744 - val_loss: 4.5740 - val_accuracy: 0.1844\n",
            "Epoch 56/100\n",
            "1563/1563 [==============================] - 5s 3ms/step - loss: 2.3938 - accuracy: 0.3761 - val_loss: 4.5598 - val_accuracy: 0.1886\n",
            "Epoch 57/100\n",
            "1563/1563 [==============================] - 5s 3ms/step - loss: 2.3894 - accuracy: 0.3747 - val_loss: 4.6025 - val_accuracy: 0.1859\n",
            "Epoch 58/100\n",
            "1563/1563 [==============================] - 5s 3ms/step - loss: 2.3821 - accuracy: 0.3780 - val_loss: 4.4897 - val_accuracy: 0.1864\n",
            "Epoch 59/100\n",
            "1563/1563 [==============================] - 5s 3ms/step - loss: 2.3798 - accuracy: 0.3801 - val_loss: 4.6622 - val_accuracy: 0.1873\n",
            "Epoch 60/100\n",
            "1563/1563 [==============================] - 5s 3ms/step - loss: 2.3813 - accuracy: 0.3805 - val_loss: 4.6000 - val_accuracy: 0.1910\n",
            "Epoch 61/100\n",
            "1563/1563 [==============================] - 5s 3ms/step - loss: 2.3836 - accuracy: 0.3790 - val_loss: 4.6861 - val_accuracy: 0.1878\n",
            "Epoch 62/100\n",
            "1563/1563 [==============================] - 5s 3ms/step - loss: 2.3564 - accuracy: 0.3828 - val_loss: 4.7789 - val_accuracy: 0.1912\n",
            "Epoch 63/100\n",
            "1563/1563 [==============================] - 5s 3ms/step - loss: 2.3617 - accuracy: 0.3845 - val_loss: 4.8499 - val_accuracy: 0.1840\n",
            "Epoch 64/100\n",
            "1563/1563 [==============================] - 5s 3ms/step - loss: 2.3594 - accuracy: 0.3827 - val_loss: 4.7774 - val_accuracy: 0.1887\n",
            "Epoch 65/100\n",
            "1563/1563 [==============================] - 5s 3ms/step - loss: 2.3744 - accuracy: 0.3812 - val_loss: 4.7741 - val_accuracy: 0.1862\n",
            "Epoch 66/100\n",
            "1563/1563 [==============================] - 5s 3ms/step - loss: 2.3430 - accuracy: 0.3878 - val_loss: 4.7166 - val_accuracy: 0.1925\n",
            "Epoch 67/100\n",
            "1563/1563 [==============================] - 5s 3ms/step - loss: 2.3543 - accuracy: 0.3862 - val_loss: 4.6107 - val_accuracy: 0.1886\n",
            "Epoch 68/100\n",
            "1563/1563 [==============================] - 5s 3ms/step - loss: 2.3349 - accuracy: 0.3902 - val_loss: 4.7620 - val_accuracy: 0.1867\n",
            "Epoch 69/100\n",
            "1563/1563 [==============================] - 5s 3ms/step - loss: 2.3233 - accuracy: 0.3928 - val_loss: 4.8246 - val_accuracy: 0.1897\n",
            "Epoch 70/100\n",
            "1563/1563 [==============================] - 5s 3ms/step - loss: 2.3400 - accuracy: 0.3906 - val_loss: 4.7137 - val_accuracy: 0.1875\n",
            "Epoch 71/100\n",
            "1563/1563 [==============================] - 5s 3ms/step - loss: 2.3268 - accuracy: 0.3895 - val_loss: 4.7529 - val_accuracy: 0.1910\n",
            "Epoch 72/100\n",
            "1563/1563 [==============================] - 5s 3ms/step - loss: 2.3149 - accuracy: 0.3947 - val_loss: 4.7969 - val_accuracy: 0.1801\n",
            "Epoch 73/100\n",
            "1563/1563 [==============================] - 5s 3ms/step - loss: 2.3118 - accuracy: 0.3938 - val_loss: 4.9481 - val_accuracy: 0.1925\n",
            "Epoch 74/100\n",
            "1563/1563 [==============================] - 5s 3ms/step - loss: 2.3223 - accuracy: 0.3952 - val_loss: 5.0223 - val_accuracy: 0.1853\n",
            "Epoch 75/100\n",
            "1563/1563 [==============================] - 5s 3ms/step - loss: 2.3278 - accuracy: 0.3926 - val_loss: 4.9605 - val_accuracy: 0.1917\n",
            "Epoch 76/100\n",
            "1563/1563 [==============================] - 5s 3ms/step - loss: 2.3112 - accuracy: 0.3976 - val_loss: 4.8039 - val_accuracy: 0.1855\n",
            "Epoch 77/100\n",
            "1563/1563 [==============================] - 5s 3ms/step - loss: 2.2998 - accuracy: 0.3974 - val_loss: 4.9129 - val_accuracy: 0.1846\n",
            "Epoch 78/100\n",
            "1563/1563 [==============================] - 5s 3ms/step - loss: 2.3001 - accuracy: 0.3936 - val_loss: 4.9391 - val_accuracy: 0.1833\n",
            "Epoch 79/100\n",
            "1563/1563 [==============================] - 5s 3ms/step - loss: 2.2978 - accuracy: 0.4000 - val_loss: 4.9102 - val_accuracy: 0.1890\n",
            "Epoch 80/100\n",
            "1563/1563 [==============================] - 5s 3ms/step - loss: 2.2960 - accuracy: 0.4008 - val_loss: 4.9944 - val_accuracy: 0.1860\n",
            "Epoch 81/100\n",
            "1563/1563 [==============================] - 5s 3ms/step - loss: 2.2814 - accuracy: 0.4020 - val_loss: 4.9290 - val_accuracy: 0.1745\n",
            "Epoch 82/100\n",
            "1563/1563 [==============================] - 5s 3ms/step - loss: 2.2845 - accuracy: 0.4029 - val_loss: 5.0456 - val_accuracy: 0.1883\n",
            "Epoch 83/100\n",
            "1563/1563 [==============================] - 5s 3ms/step - loss: 2.3048 - accuracy: 0.4014 - val_loss: 5.1620 - val_accuracy: 0.1863\n",
            "Epoch 84/100\n",
            "1563/1563 [==============================] - 5s 3ms/step - loss: 2.2685 - accuracy: 0.4079 - val_loss: 5.0654 - val_accuracy: 0.1859\n",
            "Epoch 85/100\n",
            "1563/1563 [==============================] - 5s 3ms/step - loss: 2.2710 - accuracy: 0.4048 - val_loss: 5.1877 - val_accuracy: 0.1874\n",
            "Epoch 86/100\n",
            "1563/1563 [==============================] - 5s 3ms/step - loss: 2.2831 - accuracy: 0.4038 - val_loss: 5.2102 - val_accuracy: 0.1896\n",
            "Epoch 87/100\n",
            "1563/1563 [==============================] - 5s 3ms/step - loss: 2.3033 - accuracy: 0.4009 - val_loss: 5.1435 - val_accuracy: 0.1881\n",
            "Epoch 88/100\n",
            "1563/1563 [==============================] - 5s 3ms/step - loss: 2.2893 - accuracy: 0.4020 - val_loss: 5.3061 - val_accuracy: 0.1842\n",
            "Epoch 89/100\n",
            "1563/1563 [==============================] - 5s 3ms/step - loss: 2.2576 - accuracy: 0.4086 - val_loss: 5.4623 - val_accuracy: 0.1823\n",
            "Epoch 90/100\n",
            "1563/1563 [==============================] - 5s 3ms/step - loss: 2.2529 - accuracy: 0.4080 - val_loss: 5.0092 - val_accuracy: 0.1904\n",
            "Epoch 91/100\n",
            "1563/1563 [==============================] - 5s 3ms/step - loss: 2.2691 - accuracy: 0.4075 - val_loss: 5.2533 - val_accuracy: 0.1842\n",
            "Epoch 92/100\n",
            "1563/1563 [==============================] - 5s 3ms/step - loss: 2.2679 - accuracy: 0.4068 - val_loss: 5.3848 - val_accuracy: 0.1873\n",
            "Epoch 93/100\n",
            "1563/1563 [==============================] - 5s 3ms/step - loss: 2.2617 - accuracy: 0.4101 - val_loss: 5.2545 - val_accuracy: 0.1836\n",
            "Epoch 94/100\n",
            "1563/1563 [==============================] - 5s 3ms/step - loss: 2.2502 - accuracy: 0.4123 - val_loss: 5.3669 - val_accuracy: 0.1828\n",
            "Epoch 95/100\n",
            "1563/1563 [==============================] - 5s 3ms/step - loss: 2.2543 - accuracy: 0.4088 - val_loss: 5.2950 - val_accuracy: 0.1787\n",
            "Epoch 96/100\n",
            "1563/1563 [==============================] - 5s 3ms/step - loss: 2.2568 - accuracy: 0.4100 - val_loss: 5.2752 - val_accuracy: 0.1839\n",
            "Epoch 97/100\n",
            "1563/1563 [==============================] - 5s 3ms/step - loss: 2.2269 - accuracy: 0.4152 - val_loss: 5.8219 - val_accuracy: 0.1785\n",
            "Epoch 98/100\n",
            "1563/1563 [==============================] - 5s 3ms/step - loss: 2.2251 - accuracy: 0.4146 - val_loss: 5.5801 - val_accuracy: 0.1830\n",
            "Epoch 99/100\n",
            "1563/1563 [==============================] - 5s 3ms/step - loss: 2.2645 - accuracy: 0.4099 - val_loss: 5.3163 - val_accuracy: 0.1841\n",
            "Epoch 100/100\n",
            "1563/1563 [==============================] - 5s 3ms/step - loss: 2.2659 - accuracy: 0.4114 - val_loss: 5.4689 - val_accuracy: 0.1887\n"
          ],
          "name": "stdout"
        }
      ]
    },
    {
      "cell_type": "code",
      "metadata": {
        "id": "9FHTkyybmPt7",
        "outputId": "b4706701-c645-429f-9b27-7e5913eca6f1",
        "colab": {
          "base_uri": "https://localhost:8080/",
          "height": 300
        }
      },
      "source": [
        "plt.plot(history.history['accuracy'], label='accuracy')\n",
        "plt.plot(history.history['val_accuracy'], label='val_accuracy')\n",
        "plt.xlabel('Epoch')\n",
        "plt.ylabel('Accuracy')\n",
        "plt.ylim([0,1])\n",
        "plt.legend(loc='lower right')\n",
        "\n",
        "test_loss, test_acc_feed = model.evaluate(test_images, test_labels)"
      ],
      "execution_count": 26,
      "outputs": [
        {
          "output_type": "stream",
          "text": [
            "313/313 [==============================] - 1s 2ms/step - loss: 5.4689 - accuracy: 0.1887\n"
          ],
          "name": "stdout"
        },
        {
          "output_type": "display_data",
          "data": {
            "image/png": "[encoded data removed]",
            "text/plain": [
              "<Figure size 432x288 with 1 Axes>"
            ]
          },
          "metadata": {
            "tags": [],
            "needs_background": "light"
          }
        }
      ]
    },
    {
      "cell_type": "code",
      "metadata": {
        "id": "1VClMydvomeL"
      },
      "source": [
        "print(\"CNN Test Accuracy:: \",test_acc_cnn)\n",
        "print(\"Feed Forward Neural Network Test Accuracy:: \",test_acc_feed)"
      ],
      "execution_count": null,
      "outputs": []
    }
  ]
}